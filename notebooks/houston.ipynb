{
 "cells": [
  {
   "cell_type": "markdown",
   "id": "9343f0ac",
   "metadata": {},
   "source": [
    "# 01 – Ingest + EDA (Notebook)\n",
    "\n",
    "Purpose: fast, reproducible first pass for newsroom data tests.\n",
    "- Loads the first CSV in `data/raw/` (or writes/uses a tiny fallback sample).\n",
    "- Prints basic EDA (shape, dtypes, NA counts, head).\n",
    "- Exports: `output/tables/summary.csv` and one chart to `output/charts/`.\n",
    "\n",
    "Keep methods in `docs/METHODS.md`, sources in `docs/SOURCES.md`, and progress in `docs/RUN_LOG.md`."
   ]
  },
  {
   "cell_type": "code",
   "execution_count": null,
   "id": "e69a53df",
   "metadata": {},
   "outputs": [
    {
     "name": "stdout",
     "output_type": "stream",
     "text": [
      "Project root: c:\\Users\\MUHAMMAD SHUMAIL\\Downloads\\Houston\n",
      "Python: 3.13.0 (tags/v3.13.0:60403a5, Oct  7 2024, 09:38:07) [MSC v.1941 64 bit (AMD64)]\n",
      "c:\\Users\\MUHAMMAD SHUMAIL\\Downloads\\Houston\n"
     ]
    }
   ],
   "source": [
    "from __future__ import annotations\n",
    "import os\n",
    "from pathlib import Path\n",
    "import sys\n",
    "import warnings\n",
    "warnings.filterwarnings(\"ignore\")\n",
    "\n",
    "import pandas as pd\n",
    "import numpy as np\n",
    "import matplotlib\n",
    "# Use headless backend to avoid Tk on Windows shells\n",
    "matplotlib.use(\"Agg\")\n",
    "import matplotlib.pyplot as plt\n",
    "import seaborn as sns\n",
    "\n",
    "PROJECT_ROOT = Path.cwd().parents[0] if (Path.cwd().name == 'notebooks') else Path.cwd()\n",
    "DATA_RAW = PROJECT_ROOT / 'data' / 'raw'\n",
    "DATA_PROCESSED = PROJECT_ROOT / 'data' / 'processed'\n",
    "OUT_CHARTS = PROJECT_ROOT / 'output' / 'charts'\n",
    "OUT_TABLES = PROJECT_ROOT / 'output' / 'tables'\n",
    "for p in [DATA_RAW, DATA_PROCESSED, OUT_CHARTS, OUT_TABLES]:\n",
    "    p.mkdir(parents=True, exist_ok=True)\n",
    "\n",
    "print(f'Project root: {PROJECT_ROOT}')\n",
    "print(f'Python: {sys.version}')"
   ]
  },
  {
   "cell_type": "code",
   "execution_count": null,
   "id": "988dea77",
   "metadata": {},
   "outputs": [
    {
     "name": "stdout",
     "output_type": "stream",
     "text": [
      "Loading: C:\\Users\\MUHAMMAD SHUMAIL\\Downloads\\Houston\\data\\raw\\sample_tips.csv\n",
      "Loaded rows x cols: (244, 7)\n"
     ]
    }
   ],
   "source": [
    "# Locate a user-provided dataset in data/raw (CSV or XLSX) — no fallback\n",
    "from pathlib import Path\n",
    "\n",
    "csvs = sorted(DATA_RAW.glob('*.csv'))\n",
    "xlsx = sorted(DATA_RAW.glob('*.xlsx'))\n",
    "files = csvs or xlsx\n",
    "if not files:\n",
    "    raise FileNotFoundError(\n",
    "        'No CSV/XLSX found in data/raw. Please place your dataset into data/raw and rerun this cell.'\n",
    "    )\n",
    "\n",
    "src_path = files[0]\n",
    "print('Loading:', src_path)\n",
    "\n",
    "\n",
    "def read_table_robust(path: Path) -> pd.DataFrame:\n",
    "    suffix = path.suffix.lower()\n",
    "    if suffix == '.csv':\n",
    "        encodings = ['utf-8', 'latin-1', 'cp1252']\n",
    "        for enc in encodings:\n",
    "            try:\n",
    "                return pd.read_csv(path, encoding=enc)\n",
    "            except Exception:\n",
    "                continue\n",
    "        return pd.read_csv(path, engine='python')\n",
    "    elif suffix in ('.xlsx', '.xls'):\n",
    "        return pd.read_excel(path)\n",
    "    else:\n",
    "        raise ValueError(f'Unsupported file type: {suffix}')\n",
    "\n",
    "\n",
    "df = read_table_robust(src_path)\n",
    "print('Loaded rows x cols:', df.shape)"
   ]
  },
  {
   "cell_type": "code",
   "execution_count": 7,
   "id": "3ee5729c",
   "metadata": {},
   "outputs": [
    {
     "name": "stdout",
     "output_type": "stream",
     "text": [
      "\n",
      "Dtypes:\n",
      " total_bill    float64\n",
      "tip           float64\n",
      "sex            object\n",
      "smoker         object\n",
      "day            object\n",
      "time           object\n",
      "size            int64\n",
      "dtype: object\n",
      "\n",
      "Missing values (top 10):\n",
      " total_bill    0\n",
      "tip           0\n",
      "sex           0\n",
      "smoker        0\n",
      "day           0\n",
      "time          0\n",
      "size          0\n",
      "dtype: int64\n",
      "\n",
      "Head:\n",
      "    total_bill   tip     sex smoker  day    time  size\n",
      "0       16.99  1.01  Female     No  Sun  Dinner     2\n",
      "1       10.34  1.66    Male     No  Sun  Dinner     3\n",
      "2       21.01  3.50    Male     No  Sun  Dinner     3\n",
      "3       23.68  3.31    Male     No  Sun  Dinner     2\n",
      "4       24.59  3.61  Female     No  Sun  Dinner     4\n",
      "5       25.29  4.71    Male     No  Sun  Dinner     4\n",
      "6        8.77  2.00    Male     No  Sun  Dinner     2\n",
      "7       26.88  3.12    Male     No  Sun  Dinner     4\n",
      "8       15.04  1.96    Male     No  Sun  Dinner     2\n",
      "9       14.78  3.23    Male     No  Sun  Dinner     2\n",
      "Saved table: C:\\Users\\MUHAMMAD SHUMAIL\\Downloads\\Houston\\output\\tables\\summary.csv\n"
     ]
    }
   ],
   "source": [
    "# Basic EDA\n",
    "print('\\nDtypes:\\n', df.dtypes)\n",
    "print('\\nMissing values (top 10):\\n', df.isna().sum().sort_values(ascending=False).head(10))\n",
    "print('\\nHead:\\n', df.head(5))\n",
    "\n",
    "# Summary table\n",
    "summary = pd.DataFrame({\n",
    "    'column': df.columns,\n",
    "    'dtype': [str(t) for t in df.dtypes],\n",
    "    'n_missing': df.isna().sum().values,\n",
    "})\n",
    "summary_path = OUT_TABLES / 'summary.csv'\n",
    "summary.to_csv(summary_path, index=False)\n",
    "print('Saved table:', summary_path)"
   ]
  },
  {
   "cell_type": "code",
   "execution_count": 5,
   "id": "770ab460",
   "metadata": {},
   "outputs": [
    {
     "name": "stdout",
     "output_type": "stream",
     "text": [
      "Inferred date_col: None\n",
      "Numeric columns (first 5): ['total_bill', 'tip', 'size']\n"
     ]
    }
   ],
   "source": [
    "# Try to infer a date column and find numeric columns\n",
    "date_col = None\n",
    "for c in df.columns:\n",
    "    lc = c.lower()\n",
    "    if any(k in lc for k in ['date', 'time', 'period']):\n",
    "        parsed = pd.to_datetime(df[c], errors='coerce', utc=False)\n",
    "        if parsed.notna().sum() > 0:\n",
    "            df[c] = parsed\n",
    "            date_col = c\n",
    "            break\n",
    "\n",
    "num_cols = df.select_dtypes(include=[np.number]).columns.tolist()\n",
    "print('Inferred date_col:', date_col)\n",
    "print('Numeric columns (first 5):', num_cols[:5])"
   ]
  },
  {
   "cell_type": "code",
   "execution_count": 6,
   "id": "26cd111e",
   "metadata": {},
   "outputs": [
    {
     "name": "stdout",
     "output_type": "stream",
     "text": [
      "Saved chart: c:\\Users\\MUHAMMAD SHUMAIL\\Downloads\\Houston\\output\\charts\\hist_total_bill.png\n"
     ]
    }
   ],
   "source": [
    "# Visualization logic\n",
    "sns.set_theme(style='whitegrid')\n",
    "fig = None\n",
    "chart_path = None\n",
    "\n",
    "if date_col and num_cols:\n",
    "    first_num = num_cols[0]\n",
    "    try:\n",
    "        df_sorted = df.dropna(subset=[date_col]).sort_values(date_col)\n",
    "        ts = df_sorted.set_index(date_col)[first_num]\n",
    "        if ts.index.inferred_type in ('datetime64', 'datetime64tz'):\n",
    "            ts = ts.resample('MS').mean()\n",
    "        fig, ax = plt.subplots(figsize=(8, 4.5), dpi=150)\n",
    "        ts.plot(ax=ax, color='#1f77b4')\n",
    "        ax.set_title(f'{first_num} over time')\n",
    "        ax.set_xlabel('Date')\n",
    "        ax.set_ylabel(first_num)\n",
    "        plt.tight_layout()\n",
    "        chart_path = OUT_CHARTS / f'timeseries_{first_num}.png'\n",
    "        fig.savefig(chart_path)\n",
    "    except Exception as e:\n",
    "        print('Time-series plot failed, fallback to histogram.', e)\n",
    "        fig = None\n",
    "        chart_path = None\n",
    "\n",
    "if fig is None and num_cols:\n",
    "    first_num = num_cols[0]\n",
    "    fig, ax = plt.subplots(figsize=(8, 4.5), dpi=150)\n",
    "    sns.histplot(df[first_num].dropna(), ax=ax, bins=30, color='#1f77b4')\n",
    "    ax.set_title(f'Distribution of {first_num}')\n",
    "    ax.set_xlabel(first_num)\n",
    "    ax.set_ylabel('Count')\n",
    "    plt.tight_layout()\n",
    "    chart_path = OUT_CHARTS / f'hist_{first_num}.png'\n",
    "    fig.savefig(chart_path)\n",
    "\n",
    "if fig is not None and chart_path is not None:\n",
    "    print('Saved chart:', chart_path)\n",
    "else:\n",
    "    print('No numeric columns to chart.')"
   ]
  },
  {
   "cell_type": "markdown",
   "id": "2cb72494",
   "metadata": {},
   "source": [
    "## Next steps\n",
    "- Update `docs/SOURCES.md` with your dataset links and access dates.\n",
    "- Write cleaning rules in `docs/METHODS.md`.\n",
    "- Replace the fallback sample by putting your CSV(s) into `data/raw/` and rerun."
   ]
  }
 ],
 "metadata": {
  "kernelspec": {
   "display_name": "Python (.venv) Houston",
   "language": "python",
   "name": "houston-venv"
  },
  "language_info": {
   "codemirror_mode": {
    "name": "ipython",
    "version": 3
   },
   "file_extension": ".py",
   "mimetype": "text/x-python",
   "name": "python",
   "nbconvert_exporter": "python",
   "pygments_lexer": "ipython3",
   "version": "3.13.0"
  }
 },
 "nbformat": 4,
 "nbformat_minor": 5
}
