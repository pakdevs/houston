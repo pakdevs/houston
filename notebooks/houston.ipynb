{
 "cells": [
  {
   "cell_type": "markdown",
   "id": "b982ed56",
   "metadata": {},
   "source": [
    "Prompt:\n",
    "Trump last month seized control of Washington, D.C.’s police department and deployed hundreds of National Guard troops and other federal agents to the nation’s capital, citing a crime emergency. He has used crime to justify the federal government’s intervention. He’s also sent the Guard into Memphis and said he plans to eventually carry out similar operations in New Orleans, Chicago and Baltimore, but is facing pushback from Democratic governors.\n",
    "\n",
    "we are using FBI “Offenses Known to Law Enforcement” data (2020–2024) to see whether Trump’s claims are truthful and align with the actual crime rates. we will compare data for five years to understand how crime has changed over the years and also understand how crime in Washinton D.C., Memphis, New Orleans, Chicago and Baltimore compare to national avergaes to fully examine Trump’s “crime emergency” narrative.\n",
    "\n",
    "\n",
    "Questions to Answer\n",
    "\n",
    "1. Are violent crime rates actually increasing in the cities where Trump has deployed or plans to deploy federal forces (Washington, Memphis, New Orleans, Chicago, Baltimore)?\n",
    "\n",
    "2. How do these cities compare to national trends in violent and property crime from 2020–2024?\n",
    "\n",
    "3. Which types of crime (murder, robbery) are spiking the crime rate if it is actually increasing.\n",
    "\n",
    "4. All these cities are lead by democrates, could that be the reason for chosing these cities or crime rate is actually high.\n",
    "\n",
    "4. How does these cities demographic situation look like. Median household income and poverty rates. this data should be interrutped with context because it can be used politically. \n",
    "\n"
   ]
  },
  {
   "cell_type": "code",
   "execution_count": 1,
   "id": "b534804f",
   "metadata": {},
   "outputs": [
    {
     "name": "stdout",
     "output_type": "stream",
     "text": [
      "Project root: c:\\Users\\MUHAMMAD SHUMAIL\\Downloads\\Houston\n",
      "Python: 3.13.0 (tags/v3.13.0:60403a5, Oct  7 2024, 09:38:07) [MSC v.1941 64 bit (AMD64)]\n"
     ]
    }
   ],
   "source": [
    "from __future__ import annotations\n",
    "import os\n",
    "from pathlib import Path\n",
    "import sys\n",
    "import warnings\n",
    "warnings.filterwarnings(\"ignore\")\n",
    "\n",
    "import pandas as pd\n",
    "import numpy as np\n",
    "import matplotlib\n",
    "# Use headless backend to avoid Tk on Windows shells\n",
    "matplotlib.use(\"Agg\")\n",
    "import matplotlib.pyplot as plt\n",
    "import seaborn as sns\n",
    "\n",
    "PROJECT_ROOT = Path.cwd().parents[0] if (Path.cwd().name == 'notebooks') else Path.cwd()\n",
    "DATA_RAW = PROJECT_ROOT / 'data' / 'raw'\n",
    "DATA_PROCESSED = PROJECT_ROOT / 'data' / 'processed'\n",
    "OUT_CHARTS = PROJECT_ROOT / 'output' / 'charts'\n",
    "OUT_TABLES = PROJECT_ROOT / 'output' / 'tables'\n",
    "for p in [DATA_RAW, DATA_PROCESSED, OUT_CHARTS, OUT_TABLES]:\n",
    "    p.mkdir(parents=True, exist_ok=True)\n",
    "\n",
    "print(f'Project root: {PROJECT_ROOT}')\n",
    "print(f'Python: {sys.version}')"
   ]
  }
 ],
 "metadata": {
  "kernelspec": {
   "display_name": ".venv",
   "language": "python",
   "name": "python3"
  },
  "language_info": {
   "codemirror_mode": {
    "name": "ipython",
    "version": 3
   },
   "file_extension": ".py",
   "mimetype": "text/x-python",
   "name": "python",
   "nbconvert_exporter": "python",
   "pygments_lexer": "ipython3",
   "version": "3.13.0"
  }
 },
 "nbformat": 4,
 "nbformat_minor": 5
}
